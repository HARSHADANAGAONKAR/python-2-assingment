{
  "nbformat": 4,
  "nbformat_minor": 0,
  "metadata": {
    "colab": {
      "name": "assingment 1.ipynb",
      "provenance": []
    },
    "kernelspec": {
      "name": "python3",
      "display_name": "Python 3"
    },
    "language_info": {
      "name": "python"
    }
  },
  "cells": [
    {
      "cell_type": "code",
      "metadata": {
        "colab": {
          "base_uri": "https://localhost:8080/"
        },
        "id": "iFTannoL6qOQ",
        "outputId": "78e68346-d3b9-49b9-8531-e89b83db44c4"
      },
      "source": [
        "a = input(\"enter value \" )\n",
        "b = input(\"enter value \" )\n",
        "c = input(\"enter value \" )\n",
        "d = input(\"enter value \" )\n",
        "e = input(\"enter value \" )\n",
        "li = [a, b, c, d, e]\n",
        "print(li)\n",
        "li.reverse()\n",
        "print(li)\n"
      ],
      "execution_count": 3,
      "outputs": [
        {
          "output_type": "stream",
          "text": [
            "enter value copper\n",
            "enter value zinc\n",
            "enter value gallium\n",
            "enter value iodine\\\n",
            "enter value indium\n",
            "['copper', 'zinc', 'gallium', 'iodine\\\\', 'indium']\n",
            "['indium', 'iodine\\\\', 'gallium', 'zinc', 'copper']\n"
          ],
          "name": "stdout"
        }
      ]
    }
  ]
}